{
  "nbformat": 4,
  "nbformat_minor": 0,
  "metadata": {
    "colab": {
      "name": "HW1_ZeynepŞanlı.ipynb",
      "provenance": [],
      "authorship_tag": "ABX9TyNy0gACEBa5+I5Q+pgkgTc2",
      "include_colab_link": true
    },
    "kernelspec": {
      "name": "python3",
      "display_name": "Python 3"
    }
  },
  "cells": [
    {
      "cell_type": "markdown",
      "metadata": {
        "id": "view-in-github",
        "colab_type": "text"
      },
      "source": [
        "<a href=\"https://colab.research.google.com/github/zeynepsanli/gaih-students-repo-example/blob/main/HW1_Zeynep%C5%9Eanl%C4%B1.ipynb\" target=\"_parent\"><img src=\"https://colab.research.google.com/assets/colab-badge.svg\" alt=\"Open In Colab\"/></a>"
      ]
    },
    {
      "cell_type": "code",
      "metadata": {
        "colab": {
          "base_uri": "https://localhost:8080/"
        },
        "id": "B2wXyOuzxC3F",
        "outputId": "f350364c-b463-4a42-942a-940c1510a985"
      },
      "source": [
        "import random\r\n",
        "m1 = [[0 for x in range(3)] for y in range(3)]\r\n",
        "\r\n",
        "for i in range(3):\r\n",
        "  for j in range(3):\r\n",
        "    m1[i][j] = random.randint(0,100)\r\n",
        "    \r\n",
        "print(\"Random Sayılarla oluşturulmuş 3x3 matrix \", m1)\r\n"
      ],
      "execution_count": null,
      "outputs": [
        {
          "output_type": "stream",
          "text": [
            "Random Sayılarla oluşturulmuş 3x3 matrix  [[8, 12, 73], [31, 65, 10], [78, 36, 60]]\n"
          ],
          "name": "stdout"
        }
      ]
    }
  ]
}