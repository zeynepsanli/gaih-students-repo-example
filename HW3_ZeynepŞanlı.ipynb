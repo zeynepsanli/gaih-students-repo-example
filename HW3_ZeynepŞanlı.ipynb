{
  "nbformat": 4,
  "nbformat_minor": 0,
  "metadata": {
    "colab": {
      "name": "HW3_ZeynepŞanlı.ipynb",
      "provenance": [],
      "authorship_tag": "ABX9TyN1A+bJuGUA93olOf922MKY",
      "include_colab_link": true
    },
    "kernelspec": {
      "name": "python3",
      "display_name": "Python 3"
    }
  },
  "cells": [
    {
      "cell_type": "markdown",
      "metadata": {
        "id": "view-in-github",
        "colab_type": "text"
      },
      "source": [
        "<a href=\"https://colab.research.google.com/github/zeynepsanli/gaih-students-repo-example/blob/main/HW3_Zeynep%C5%9Eanl%C4%B1.ipynb\" target=\"_parent\"><img src=\"https://colab.research.google.com/assets/colab-badge.svg\" alt=\"Open In Colab\"/></a>"
      ]
    },
    {
      "cell_type": "code",
      "metadata": {
        "colab": {
          "base_uri": "https://localhost:8080/",
          "height": 258
        },
        "id": "tfYmcfNfOcXu",
        "outputId": "34dbec2f-ad1e-4bce-8870-846d0efb9b44"
      },
      "source": [
        "sayi1 = 0\r\n",
        "sayi2 = 1000 \r\n",
        "def prime_first(n):\r\n",
        "  asallar = []\r\n",
        "  if n < 2:\r\n",
        "    return None\r\n",
        "  elif n == 2:\r\n",
        "    return None\r\n",
        "  else:\r\n",
        "   for i in range(2, int((n/2)) + 1):\r\n",
        "     bolundu = False\r\n",
        "     for j in range(2,i):\r\n",
        "       if i % j == 0:\r\n",
        "         bolundu = True\r\n",
        "         break\r\n",
        "     if bolundu == False:\r\n",
        "         asallar.append(i)\r\n",
        "  return asallar\r\n",
        "\r\n",
        "def prime_second(n):\r\n",
        "  asallar2 = []\r\n",
        "  if n < 500:\r\n",
        "    return None\r\n",
        "  else:\r\n",
        "   for i in range(500, int(n) + 1):\r\n",
        "     bolundu = False\r\n",
        "     for j in range(500,i):\r\n",
        "       if i % j == 0:\r\n",
        "         bolundu = True\r\n",
        "         break\r\n",
        "     if bolundu == False:\r\n",
        "         asallar2.append(i)\r\n",
        "  return asallar2\r\n",
        "\r\n",
        "for sayi in range(sayi1,sayi2 + 1):\r\n",
        "  asal_sayilar = prime_first(sayi)\r\n",
        "  continue\r\n",
        "  asal_sayilar2 = prime_second(sayi)\r\n",
        "print(asal_sayilar)\r\n",
        "print(asal_sayilar2)\r\n",
        "    "
      ],
      "execution_count": null,
      "outputs": [
        {
          "output_type": "stream",
          "text": [
            "[2, 3, 5, 7, 11, 13, 17, 19, 23, 29, 31, 37, 41, 43, 47, 53, 59, 61, 67, 71, 73, 79, 83, 89, 97, 101, 103, 107, 109, 113, 127, 131, 137, 139, 149, 151, 157, 163, 167, 173, 179, 181, 191, 193, 197, 199, 211, 223, 227, 229, 233, 239, 241, 251, 257, 263, 269, 271, 277, 281, 283, 293, 307, 311, 313, 317, 331, 337, 347, 349, 353, 359, 367, 373, 379, 383, 389, 397, 401, 409, 419, 421, 431, 433, 439, 443, 449, 457, 461, 463, 467, 479, 487, 491, 499]\n"
          ],
          "name": "stdout"
        },
        {
          "output_type": "error",
          "ename": "NameError",
          "evalue": "ignored",
          "traceback": [
            "\u001b[0;31m---------------------------------------------------------------------------\u001b[0m",
            "\u001b[0;31mNameError\u001b[0m                                 Traceback (most recent call last)",
            "\u001b[0;32m<ipython-input-33-cb419bd9b5df>\u001b[0m in \u001b[0;36m<module>\u001b[0;34m()\u001b[0m\n\u001b[1;32m     38\u001b[0m   \u001b[0masal_sayilar2\u001b[0m \u001b[0;34m=\u001b[0m \u001b[0mprime_second\u001b[0m\u001b[0;34m(\u001b[0m\u001b[0msayi\u001b[0m\u001b[0;34m)\u001b[0m\u001b[0;34m\u001b[0m\u001b[0;34m\u001b[0m\u001b[0m\n\u001b[1;32m     39\u001b[0m \u001b[0mprint\u001b[0m\u001b[0;34m(\u001b[0m\u001b[0masal_sayilar\u001b[0m\u001b[0;34m)\u001b[0m\u001b[0;34m\u001b[0m\u001b[0;34m\u001b[0m\u001b[0m\n\u001b[0;32m---> 40\u001b[0;31m \u001b[0mprint\u001b[0m\u001b[0;34m(\u001b[0m\u001b[0masal_sayilar2\u001b[0m\u001b[0;34m)\u001b[0m\u001b[0;34m\u001b[0m\u001b[0;34m\u001b[0m\u001b[0m\n\u001b[0m\u001b[1;32m     41\u001b[0m \u001b[0;34m\u001b[0m\u001b[0m\n",
            "\u001b[0;31mNameError\u001b[0m: name 'asal_sayilar2' is not defined"
          ]
        }
      ]
    }
  ]
}