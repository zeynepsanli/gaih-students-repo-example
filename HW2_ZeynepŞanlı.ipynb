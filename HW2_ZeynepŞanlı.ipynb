{
  "nbformat": 4,
  "nbformat_minor": 0,
  "metadata": {
    "colab": {
      "name": "HW2_ZeynepŞanlı.ipynb",
      "provenance": [],
      "authorship_tag": "ABX9TyNg0dZ2y98oMc6mkhoM4qwx",
      "include_colab_link": true
    },
    "kernelspec": {
      "name": "python3",
      "display_name": "Python 3"
    }
  },
  "cells": [
    {
      "cell_type": "markdown",
      "metadata": {
        "id": "view-in-github",
        "colab_type": "text"
      },
      "source": [
        "<a href=\"https://colab.research.google.com/github/zeynepsanli/gaih-students-repo-example/blob/main/HW2_Zeynep%C5%9Eanl%C4%B1.ipynb\" target=\"_parent\"><img src=\"https://colab.research.google.com/assets/colab-badge.svg\" alt=\"Open In Colab\"/></a>"
      ]
    },
    {
      "cell_type": "code",
      "metadata": {
        "colab": {
          "base_uri": "https://localhost:8080/"
        },
        "id": "KYO-_rm3NMFB",
        "outputId": "47b77654-8b33-4bc2-b422-79c9dc3fb184"
      },
      "source": [
        "not_list=[]\r\n",
        "temp_list=[]\r\n",
        "isim_list=[]\r\n",
        "n=int(input('Sınıf mevcudunu giriniz: '))\r\n",
        "\r\n",
        "for i in range(n):  # kaç tane alt liste olacağını belirler\r\n",
        "    for j in range(0,3): # alt listenin boyutunu belirler\r\n",
        "        veri = input(\"Lütfen notu giriniz: \")\r\n",
        "        sayi = int(veri)\r\n",
        "        temp_list.append(sayi)\r\n",
        "    not_list.append(temp_list)\r\n",
        "    temp_list=[]  #tem_list'i boş yapar\r\n",
        "\r\n",
        "print(\"Notların listesi: \", not_list)\r\n",
        "\r\n",
        "for i in range(n):\r\n",
        "  veri2 = (input(\"İsim ve Soyisim girini: \"))\r\n",
        "  isim_list.append(veri2)\r\n",
        "print(\"İsimlerin Listesi: \", isim_list)\r\n",
        "\r\n",
        "info = dict(zip(isim_list, not_list))\r\n",
        "print(\"Öğrencilerin not bilgileri: \", info)\r\n"
      ],
      "execution_count": null,
      "outputs": [
        {
          "output_type": "stream",
          "text": [
            "Sınıf mevcudunu giriniz: 2\n",
            "Lütfen notu giriniz: 1\n",
            "Lütfen notu giriniz: 2\n",
            "Lütfen notu giriniz: 3\n",
            "Lütfen notu giriniz: 4\n",
            "Lütfen notu giriniz: 5\n",
            "Lütfen notu giriniz: 6\n",
            "Notların listesi:  [[1, 2, 3], [4, 5, 6]]\n",
            "İsim ve Soyisim girini: Zeynep\n",
            "İsim ve Soyisim girini: Hamza\n",
            "İsimlerin Listesi:  ['Zeynep', 'Hamza']\n",
            "Öğrencilerin not bilgileri:  {'Zeynep': [1, 2, 3], 'Hamza': [4, 5, 6]}\n"
          ],
          "name": "stdout"
        }
      ]
    },
    {
      "cell_type": "code",
      "metadata": {
        "colab": {
          "base_uri": "https://localhost:8080/"
        },
        "id": "EyEarL1q4TgH",
        "outputId": "75a0a743-8eff-47d9-a46f-fd32c2282cf7"
      },
      "source": [
        "info_values = info.values()\r\n",
        "print(info_values)"
      ],
      "execution_count": null,
      "outputs": [
        {
          "output_type": "stream",
          "text": [
            "dict_values([[1, 2, 3], [4, 5, 6]])\n"
          ],
          "name": "stdout"
        }
      ]
    },
    {
      "cell_type": "code",
      "metadata": {
        "colab": {
          "base_uri": "https://localhost:8080/"
        },
        "id": "sXoMZXOv73tD",
        "outputId": "10c2f6a0-f6f6-4bff-f7ce-c283b56dd120"
      },
      "source": [
        "def average_list(M):\r\n",
        "    return [sum(sublist)/len(sublist) for sublist in M]\r\n",
        "\r\n",
        "ortalamalar = average_list(info_values)\r\n",
        "ortalama_listesi = dict(zip(isim_list, ortalamalar))\r\n",
        "print(\"Öğrencilerin ortalamaları: \", ortalama_listesi)"
      ],
      "execution_count": null,
      "outputs": [
        {
          "output_type": "stream",
          "text": [
            "Öğrencilerin ortalamaları:  {'Zeynep': 2.0, 'Hamza': 5.0}\n"
          ],
          "name": "stdout"
        }
      ]
    },
    {
      "cell_type": "code",
      "metadata": {
        "colab": {
          "base_uri": "https://localhost:8080/"
        },
        "id": "_AUk1hku_icn",
        "outputId": "2e2ac9a3-f5e5-4b0a-9e12-8fd6ab7326d0"
      },
      "source": [
        "s = sorted(ortalama_listesi.items(), key=lambda x: x[1], reverse=True) \r\n",
        "  \r\n",
        "for i in s: \r\n",
        "  print(\"{} {}\".format(i[0], i[1]))\r\n",
        "print(\"Tebrikler {}! \".format(i[0]))"
      ],
      "execution_count": null,
      "outputs": [
        {
          "output_type": "stream",
          "text": [
            "Hamza 5.0\n",
            "Zeynep 2.0\n",
            "Tebrikler Zeynep! \n"
          ],
          "name": "stdout"
        }
      ]
    }
  ]
}