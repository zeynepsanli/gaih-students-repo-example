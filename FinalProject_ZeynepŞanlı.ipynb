{
  "nbformat": 4,
  "nbformat_minor": 0,
  "metadata": {
    "colab": {
      "name": "FinalProject_ZeynepŞanlı.ipynb",
      "provenance": [],
      "authorship_tag": "ABX9TyOB0Vps0a09helKICtxowBc",
      "include_colab_link": true
    },
    "kernelspec": {
      "name": "python3",
      "display_name": "Python 3"
    }
  },
  "cells": [
    {
      "cell_type": "markdown",
      "metadata": {
        "id": "view-in-github",
        "colab_type": "text"
      },
      "source": [
        "<a href=\"https://colab.research.google.com/github/zeynepsanli/gaih-students-repo-example/blob/main/FinalProject_Zeynep%C5%9Eanl%C4%B1.ipynb\" target=\"_parent\"><img src=\"https://colab.research.google.com/assets/colab-badge.svg\" alt=\"Open In Colab\"/></a>"
      ]
    },
    {
      "cell_type": "code",
      "metadata": {
        "colab": {
          "base_uri": "https://localhost:8080/"
        },
        "id": "2b1CILnZsbiO",
        "outputId": "47e9faf3-c743-4cbe-8fad-dc70af7d99e0"
      },
      "source": [
        "class Recipes():\r\n",
        "  def __init__(self, name, category):\r\n",
        "    self.name     = name\r\n",
        "    self.category = category\r\n",
        "    self.difficulty = 0\r\n",
        "    self.time       = 0\r\n",
        "  def baked (self):\r\n",
        "    print('baking.. ')\r\n",
        "class Pizza(Recipes):\r\n",
        "  def __init__(self, *arglar):\r\n",
        "    super().__init__(*arglar)\r\n",
        "    self.difficulty = 4\r\n",
        "    self.time       = 30\r\n",
        "  def baked(self):\r\n",
        "    super().baked()\r\n",
        "    print(f\"{self.name}: is baked..\")\r\n",
        "\r\n",
        "class Pastry(Recipes):\r\n",
        "  def __init__(self, *arglar):\r\n",
        "    super().__init__(*arglar)\r\n",
        "    self.difficulty = 3\r\n",
        "    self.time       = 50\r\n",
        "  def baked(self):\r\n",
        "    super().baked()\r\n",
        "    print(f\"{self.name}: is baked..\")\r\n",
        "\r\n",
        "class Salad(Recipes):\r\n",
        "  def __init__(self, *arglar):\r\n",
        "    super().__init__(*arglar)\r\n",
        "    self.difficulty = 2\r\n",
        "    self.time       = 15\r\n",
        "  def baked(self):\r\n",
        "    super().baked()\r\n",
        "    print(f\"{self.name}: is baked..\")\r\n",
        "\r\n",
        "pizza = Pizza('Margerita', 'main courses')\r\n",
        "print(\"Difficulty level is \", pizza.difficulty)\r\n",
        "print(\"Cooking time\", pizza.time, \"min\")\r\n",
        "print(pizza.baked())\r\n",
        "\r\n",
        "pastry = Pastry('cheesy pastry', 'snack')\r\n",
        "print(\"Difficulty level is \", pastry.difficulty)\r\n",
        "print(\"Cooking time\", pastry.time, \"min\")\r\n",
        "print(pastry.baked())\r\n",
        "\r\n",
        "salad = Salad('Mediterranean salad', 'salad')\r\n",
        "print(\"Difficulty level is \", salad.difficulty)\r\n",
        "print(\"Cooking time\", salad.time, \"min\")\r\n",
        "print(salad.baked())"
      ],
      "execution_count": null,
      "outputs": [
        {
          "output_type": "stream",
          "text": [
            "Difficulty level is  4\n",
            "Cooking time 30 min\n",
            "baking.. \n",
            "Margerita: is baked..\n",
            "None\n",
            "Difficulty level is  3\n",
            "Cooking time 50 min\n",
            "baking.. \n",
            "cheesy pastry: is baked..\n",
            "None\n",
            "Difficulty level is  2\n",
            "Cooking time 15 min\n",
            "baking.. \n",
            "Mediterranean salad: is baked..\n",
            "None\n"
          ],
          "name": "stdout"
        }
      ]
    }
  ]
}