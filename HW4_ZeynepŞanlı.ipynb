{
  "nbformat": 4,
  "nbformat_minor": 0,
  "metadata": {
    "colab": {
      "name": "HW4_ZeynepŞanlı.ipynb",
      "provenance": [],
      "authorship_tag": "ABX9TyPVSzFUcC2WJ5V1P9EaYdID",
      "include_colab_link": true
    },
    "kernelspec": {
      "name": "python3",
      "display_name": "Python 3"
    }
  },
  "cells": [
    {
      "cell_type": "markdown",
      "metadata": {
        "id": "view-in-github",
        "colab_type": "text"
      },
      "source": [
        "<a href=\"https://colab.research.google.com/github/zeynepsanli/gaih-students-repo-example/blob/main/HW4_Zeynep%C5%9Eanl%C4%B1.ipynb\" target=\"_parent\"><img src=\"https://colab.research.google.com/assets/colab-badge.svg\" alt=\"Open In Colab\"/></a>"
      ]
    },
    {
      "cell_type": "code",
      "metadata": {
        "colab": {
          "base_uri": "https://localhost:8080/"
        },
        "id": "26vXe-RqTCX6",
        "outputId": "3a97af48-cae2-4d97-f1ec-37c59ee1922c"
      },
      "source": [
        "\r\n",
        "import random\r\n",
        "from IPython.display import clear_output\r\n",
        "\r\n",
        "#Create the Object for Hangman\r\n",
        "class Hangman():\r\n",
        "    #def __init__(self, secret_word, guess_letter, guesses_taken, guesses_left=8):\r\n",
        "        #self.secret_word = secret_word\r\n",
        "        #self.guess_letter = guess_letter\r\n",
        "        #self.guesses_taken = guesses_taken\r\n",
        "        #self.guesses_left = guesses_left\r\n",
        "        \r\n",
        "    def __init__(self, guesses_left=8):\r\n",
        "        self.guesses_left = guesses_left\r\n",
        "        \r\n",
        "        \r\n",
        "    def main(self):\r\n",
        "        \r\n",
        "        guesses_left = 8\r\n",
        "        guesses_taken = 0\r\n",
        "        guesses_left = guesses_left - guesses_taken\r\n",
        "        words = [\"werewolf\", \"vampire\", \"thunderbird\", \"minotaur\", \"hellhound\", \"skinwalker\", \"ghost\", \"poltergeist\" \"gremlin\", \"bigfoot\",  \"bigfoot\"]\r\n",
        "        secretword = list(random.choice(words))\r\n",
        "        secretwordstring = \"\".join(secretword)\r\n",
        "        underscore = []\r\n",
        "        guessed =[]\r\n",
        "        print(\"Welcome to Hangsaman. You have 8 chances to guess letters in the SUPER SECRET WORD. If you know the word,\\\r\n",
        "you can simply type in the word to guess it.\")\r\n",
        "        for letter in range(len(secretword)):\r\n",
        "            underscore.append(\"_ \")\r\n",
        "        playing = True\r\n",
        "        \r\n",
        "        while True:\r\n",
        "            if guesses_left > 0:\r\n",
        "                playing = True\r\n",
        "            else:\r\n",
        "                clear_output()\r\n",
        "                playing = False\r\n",
        "                print(\"You're out of guesses! The SUPER SECRET WORD was: {}.\".format(secretwordstring))\r\n",
        "                break\r\n",
        "            secretwordstring = \"\".join(secretword)\r\n",
        "            guess_letter = str(input(\"Guess a single letter! \")).lower()\r\n",
        "            guesses_taken +=1\r\n",
        "            guesses_left -= 1\r\n",
        "            print(\"Your guess was {}. \".format(guess_letter))\r\n",
        "            if guess_letter.isalpha() == False:\r\n",
        "                clear_output()\r\n",
        "                print(\"That's not a letter, and it still counts as a turn. You've guessed {} and have {} guesses left {}.\".format(guessed, guesses_left, underscore))\r\n",
        "            elif len(guess_letter) != 1 and guess_letter != secretwordstring:\r\n",
        "                clear_output()\r\n",
        "                print(\"That's more than one character, but it still counts as a turn. You've guessed {} and have {} guesses left {}.\".format(guessed, guesses_left, underscore))\r\n",
        "            elif guess_letter == secretwordstring:\r\n",
        "                clear_output()\r\n",
        "                print(\"You guessed it! The secret word was {}. YOU WIN!!!!!\".format(secretwordstring))\r\n",
        "                playing = False\r\n",
        "                break\r\n",
        "            elif guess_letter.isalpha() == True:\r\n",
        "                clear_output()\r\n",
        "                guessed.append(guess_letter)\r\n",
        "                for letter in secretword:\r\n",
        "                    if guess_letter == letter:\r\n",
        "                        for index,l in enumerate(secretwordstring):\r\n",
        "                            if l is letter:\r\n",
        "                                underscore[index] = l\r\n",
        "                        #print(indexpoint)\r\n",
        "                        #del underscore[indexpoint]\r\n",
        "                        #underscore.insert(indexpoint, letter)\r\n",
        "                        print(\"{} This is what you have to guess for. You have {} chances left and so far you've guessed {} \".format(underscore, guesses_left, guessed))\r\n",
        "                        break\r\n",
        "                        clear_output()\r\n",
        "                    elif guess_letter not in secretword:\r\n",
        "                        clear_output()\r\n",
        "                        print(\"Nope, {} isn't in the Super Secret Word. So far you've guessed {} and you have {} turns left. {}\".format(guess_letter, guessed, guesses_left, underscore))\r\n",
        "                        break\r\n",
        "                        clear_output()\r\n",
        "                \r\n",
        "            elif guess_letter.lower() == secretwordstring:\r\n",
        "                clear_output()\r\n",
        "                print(\"You guessed it! The secret word was {}. YOU WIN!!!!!\".format(secretword))\r\n",
        "                playing = False\r\n",
        "                break\r\n",
        "                \r\n",
        "\r\n",
        "\r\n",
        "hanga = Hangman()\r\n",
        "hanga.main()"
      ],
      "execution_count": null,
      "outputs": [
        {
          "output_type": "stream",
          "text": [
            "['s', '_ ', '_ ', '_ ', '_ ', '_ ', 'l', '_ ', '_ ', '_ '] This is what you have to guess for. You have 5 chances left and so far you've guessed ['h', 'l', 's'] \n"
          ],
          "name": "stdout"
        }
      ]
    }
  ]
}